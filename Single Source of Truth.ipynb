{
 "cells": [
  {
   "cell_type": "markdown",
   "id": "38414fb4-e9f1-4a05-89cf-9f215453979d",
   "metadata": {
    "tags": []
   },
   "source": [
    "# Single Source of Truth"
   ]
  },
  {
   "cell_type": "code",
   "execution_count": 1,
   "id": "fe708fab-9280-4caf-afce-9ac20d53f93b",
   "metadata": {},
   "outputs": [],
   "source": [
    "import geopandas as gpd\n",
    "import pandas as pd\n",
    "import numpy as np"
   ]
  },
  {
   "cell_type": "markdown",
   "id": "15172a57-73a4-4c94-aaae-78f68832c77a",
   "metadata": {},
   "source": [
    "## Barangays"
   ]
  },
  {
   "cell_type": "markdown",
   "id": "701ef820-e46c-4278-83be-0d4d076c1ecc",
   "metadata": {},
   "source": [
    "[Philippines Administrative Boundaries JSON Maps](https://github.com/altcoder/philippines-psgc-shapefiles) by [altcoder](https://github.com/altcoder)."
   ]
  },
  {
   "cell_type": "code",
   "execution_count": 2,
   "id": "b2f57067-3c03-43ea-afba-992fe3b069a0",
   "metadata": {
    "tags": []
   },
   "outputs": [],
   "source": [
    "barangays = gpd.read_file(filename = 'input/Barangays.zip')\n",
    "\n",
    "barangays = barangays[barangays['ADM3_EN'] == 'City of Cauayan']\n",
    "\n",
    "barangays = barangays[['ADM4_EN', 'geometry']]\n",
    "\n",
    "barangays.columns = ['Barangay', 'geometry']\n",
    "\n",
    "barangays.set_index(keys = 'Barangay', inplace = True)"
   ]
  },
  {
   "cell_type": "markdown",
   "id": "a0a877e5-1498-4051-b489-7e4c8c32a842",
   "metadata": {},
   "source": [
    "## CBMS 2016 RESULTS"
   ]
  },
  {
   "cell_type": "code",
   "execution_count": 3,
   "id": "7665c3fa-e51f-451e-b23f-e125245aeb6a",
   "metadata": {},
   "outputs": [],
   "source": [
    "path = 'input/CBMS 2016 RESULTS.xlsx'"
   ]
  },
  {
   "cell_type": "code",
   "execution_count": 4,
   "id": "b2a59da4-c5b7-4d59-b9e4-0fead2102953",
   "metadata": {},
   "outputs": [],
   "source": [
    "population = pd.read_excel(io = path,\n",
    "                           sheet_name = 'POPULATION',\n",
    "                           names = ['Barangay',\n",
    "                                    'Total no. of Households',\n",
    "                                    'Total no. of Population',\n",
    "                                    'Total no. of Population (Male)',\n",
    "                                    'Total no. of Population (Female)'],\n",
    "                           index_col = 0,\n",
    "                           usecols = 'B:F',\n",
    "                           skiprows = 3,\n",
    "                           nrows = 65)"
   ]
  },
  {
   "cell_type": "code",
   "execution_count": 5,
   "id": "fabb9304-7c8d-44e2-86cf-810a2594f33d",
   "metadata": {},
   "outputs": [],
   "source": [
    "poverty = pd.read_excel(io = path,\n",
    "                        sheet_name = 'POVERTY',\n",
    "                        names = ['Barangay',\n",
    "                                 'households wih income below poverty threshold'],\n",
    "                        index_col = 0,\n",
    "                        usecols = 'B, D',\n",
    "                        skiprows = 6,\n",
    "                        nrows = 65)"
   ]
  },
  {
   "cell_type": "code",
   "execution_count": 6,
   "id": "3a854104-0d98-48c3-99de-581d6d19259e",
   "metadata": {},
   "outputs": [],
   "source": [
    "informal_settlers = pd.read_excel(io = path,\n",
    "                                  sheet_name = 'INFORMAL SETTLERS',\n",
    "                                  names = ['Barangay',\n",
    "                                           'Households who are Informal settlers',\n",
    "                                           'Household living in Makeshift housing'],\n",
    "                                  index_col = 0,\n",
    "                                  usecols = 'B, D:E',\n",
    "                                  skiprows = 6,\n",
    "                                  nrows = 65)"
   ]
  },
  {
   "cell_type": "code",
   "execution_count": 7,
   "id": "110977f4-fdb3-4381-bd2c-1dae621f1c17",
   "metadata": {},
   "outputs": [],
   "source": [
    "unemployment = pd.read_excel(io = path,\n",
    "                             sheet_name = 'UNEMPLOYMENT',\n",
    "                             names = ['Barangay',\n",
    "                                      'number of members of the labor force (Total)',\n",
    "                                      'number of members of the labor force (Male)',\n",
    "                                      'number of members of the labor force (Female)',\n",
    "                                      'unemployed members of the labor force (Magnitude, Total)',\n",
    "                                      'unemployed members of the labor force (Magnitude, Male)',\n",
    "                                      'unemployed members of the labor force (Magnitude, Female)',\n",
    "                                      'unemployed members of the labor force (Proportion, Total)',\n",
    "                                      'unemployed members of the labor force (Proportion, Male)',\n",
    "                                      'unemployed members of the labor force (Proportion, Female)'],\n",
    "                             index_col = 0,\n",
    "                             usecols = 'B:K',\n",
    "                             skiprows = 7,\n",
    "                             nrows = 65)"
   ]
  },
  {
   "cell_type": "code",
   "execution_count": 8,
   "id": "900fc204-4552-4875-b28a-7e6646d2345f",
   "metadata": {},
   "outputs": [],
   "source": [
    "underemployed = pd.read_excel(io = path,\n",
    "                              sheet_name = 'UNDEREMPLOYED',\n",
    "                              names = ['Barangay',\n",
    "                                       'number of Employed members of the labor force (Total)',\n",
    "                                       'number of Employed members of the labor force (Male)',\n",
    "                                       'number of Employed members of the labor force (Female)',\n",
    "                                       'underemployed workers (Magnitude, Total)',\n",
    "                                       'underemployed workers (Magnitude, Male)',\n",
    "                                       'underemployed workers (Magnitude, Female)',\n",
    "                                       'underemployed workers (Proportion, Total)',\n",
    "                                       'underemployed workers (Proportion, Male)',\n",
    "                                       'underemployed workers (Proportion, Female)'],\n",
    "                              index_col = 0,\n",
    "                              usecols = 'B:K',\n",
    "                              skiprows = 7,\n",
    "                              nrows = 65)"
   ]
  },
  {
   "cell_type": "code",
   "execution_count": 9,
   "id": "a508a78b-aa2a-4e07-b189-e899d4e0be25",
   "metadata": {},
   "outputs": [],
   "source": [
    "senior_citizens = pd.read_excel(io = path,\n",
    "                                sheet_name = 'SENIOR CITIZENS',\n",
    "                                names = ['Barangay',\n",
    "                                         'number of senior citizens (Total)',\n",
    "                                         'number of senior citizens (Male)',\n",
    "                                         'number of senior citizens (Female)',\n",
    "                                         'Senior citizens with ID (Magnitude, Total)',\n",
    "                                         'Senior citizens with ID (Magnitude, Male)',\n",
    "                                         'Senior citizens with ID (Magnitude, Female)',\n",
    "                                         'Senior citizens with ID (Proportion, Total)',\n",
    "                                         'Senior citizens with ID (Proportion, Male)',\n",
    "                                         'Senior citizens with ID (Proportion, Female)'],\n",
    "                                index_col = 0,\n",
    "                                usecols = 'B:K',\n",
    "                                skiprows = 7,\n",
    "                                nrows = 65)"
   ]
  },
  {
   "cell_type": "code",
   "execution_count": 10,
   "id": "3bdef1ba-c17c-49aa-8629-e17998bef3b0",
   "metadata": {},
   "outputs": [],
   "source": [
    "pwd = pd.read_excel(io = path,\n",
    "                    sheet_name = 'PWD',\n",
    "                    names = ['Barangay',\n",
    "                             'PWD Indicator (TOTAL)'],\n",
    "                    index_col = 0,\n",
    "                    usecols = 'B:C',\n",
    "                    skiprows = 2,\n",
    "                    nrows = 65)"
   ]
  },
  {
   "cell_type": "code",
   "execution_count": 11,
   "id": "d776f6fc-9f6b-441a-b850-3457f5f9ac59",
   "metadata": {},
   "outputs": [],
   "source": [
    "malnourished_children = pd.read_excel(io = path,\n",
    "                                      sheet_name = 'MALNOURISHED CHILDREN',\n",
    "                                      names = ['Barangay',\n",
    "                                               'number of children 0-5 years old (Total)',\n",
    "                                               'number of children 0-5 years old (Male)',\n",
    "                                               'number of children 0-5 years old (Female)',\n",
    "                                               'malnourished children 0-5 years old (Magnitude, Total)',\n",
    "                                               'malnourished children 0-5 years old (Magnitude, Male)',\n",
    "                                               'malnourished children 0-5 years old (Magnitude, Female)',\n",
    "                                               'malnourished children 0-5 years old (Proportion, Total)',\n",
    "                                               'malnourished children 0-5 years old (Proportion, Male)',\n",
    "                                               'malnourished children 0-5 years old (Proportion, Female)'],\n",
    "                                      index_col = 0,\n",
    "                                      usecols = 'B:K',\n",
    "                                      skiprows = 5,\n",
    "                                      nrows = 65)"
   ]
  },
  {
   "cell_type": "code",
   "execution_count": 12,
   "id": "f559f114-3fec-4cf4-b349-901471bc9bab",
   "metadata": {},
   "outputs": [],
   "source": [
    "electricity = pd.read_excel(io = path,\n",
    "                            sheet_name = 'ELECTRICITY',\n",
    "                            names = ['Barangay',\n",
    "                                     'Households with access to electricty'],\n",
    "                            index_col = 0,\n",
    "                            usecols = 'B, D',\n",
    "                            skiprows = 8,\n",
    "                            nrows = 65)"
   ]
  },
  {
   "cell_type": "code",
   "execution_count": 13,
   "id": "764ca28c-d0ce-4ef8-b2b1-7721381c9631",
   "metadata": {},
   "outputs": [],
   "source": [
    "victims_of_crime = pd.read_excel(io = path,\n",
    "                                 sheet_name = 'VICTIMS OF CRIME',\n",
    "                                 names = ['Barangay',\n",
    "                                          'victims of crime (Magnitude, Total)',\n",
    "                                          'victims of crime (Magnitude, Male)',\n",
    "                                          'victims of crime (Magnitude, Female)',\n",
    "                                          'victims of crime (Proportion, Total)',\n",
    "                                          'victims of crime (Proportion, Male)',\n",
    "                                          'victims of crime (Proportion, Female)'],\n",
    "                                 index_col = 0,\n",
    "                                 usecols = 'B, F:K',\n",
    "                                 skiprows = 7,\n",
    "                                 nrows = 65)"
   ]
  },
  {
   "cell_type": "code",
   "execution_count": 14,
   "id": "4efddbb3-174a-48b4-a3ec-3339984028bd",
   "metadata": {},
   "outputs": [],
   "source": [
    "poverty.index = population.index\n",
    "informal_settlers.index = population.index\n",
    "unemployment.index = population.index\n",
    "underemployed.index = population.index\n",
    "senior_citizens.index = population.index\n",
    "pwd.index = population.index\n",
    "malnourished_children.index = population.index\n",
    "electricity.index = population.index\n",
    "victims_of_crime.index = population.index"
   ]
  },
  {
   "cell_type": "code",
   "execution_count": 15,
   "id": "cc646678-9227-45dc-bf0f-7480506caffa",
   "metadata": {},
   "outputs": [],
   "source": [
    "cbms = population.join(poverty.join(informal_settlers.join(unemployment.join(underemployed.join(senior_citizens.join(pwd.join(malnourished_children.join(electricity.join(victims_of_crime)))))))))"
   ]
  },
  {
   "cell_type": "markdown",
   "id": "5cb06222-0a01-4a67-a194-359e12a84627",
   "metadata": {
    "tags": []
   },
   "source": [
    "## Entrepreneurial activity per Barangay (2016-2017)"
   ]
  },
  {
   "cell_type": "code",
   "execution_count": 16,
   "id": "fc7d6519-6021-41ce-a706-bd438fe91cf2",
   "metadata": {},
   "outputs": [],
   "source": [
    "ea = pd.read_excel(io = r'input/Barangay/Entrepreneurial activity per Barangay (2016-2017).xlsx',\n",
    "                   usecols = 'B, D',\n",
    "                   skiprows = 10)\n",
    "\n",
    "ea.dropna(inplace = True)\n",
    "\n",
    "ea = pd.DataFrame(data = np.array(ea.iloc[:, -1]).reshape(65, 11),\n",
    "                  index = cbms.index,\n",
    "                  columns = list(ea.iloc[0:11, 0]),\n",
    "                  dtype = 'int64')"
   ]
  },
  {
   "cell_type": "markdown",
   "id": "631fcefa-a3b2-4ee8-ab89-666764ad6697",
   "metadata": {
    "tags": []
   },
   "source": [
    "## No. of OFWs per Barangay (2016-2017)"
   ]
  },
  {
   "cell_type": "code",
   "execution_count": 17,
   "id": "fee192eb-a1d6-4bf2-96d5-b1500f6271ec",
   "metadata": {},
   "outputs": [],
   "source": [
    "noo = pd.read_excel(io = r'input/Barangay/No. of OFWs per Barangay (2016-2017).xlsx',\n",
    "                    names = ['Barangay',\n",
    "                             'OFW'],\n",
    "                    index_col = 0,\n",
    "                    usecols = 'C:D',\n",
    "                    skiprows = 1,\n",
    "                    nrows = 65)"
   ]
  },
  {
   "cell_type": "markdown",
   "id": "137b51a6-2051-4764-8ecc-e5bcfb677b31",
   "metadata": {
    "tags": []
   },
   "source": [
    "## Singe Source of Truth"
   ]
  },
  {
   "cell_type": "code",
   "execution_count": 18,
   "id": "3d4b1e1e-a812-4710-9e6e-7a92b6c544bb",
   "metadata": {},
   "outputs": [],
   "source": [
    "barangays.index = cbms.index\n",
    "noo.index = cbms.index"
   ]
  },
  {
   "cell_type": "code",
   "execution_count": 19,
   "id": "2b1a2ce1-b199-4483-8eb0-8575fcb867f9",
   "metadata": {},
   "outputs": [],
   "source": [
    "ssot = barangays.join(cbms.join(ea.join(noo)))"
   ]
  },
  {
   "cell_type": "code",
   "execution_count": 20,
   "id": "38c3073c-b8f1-47bf-8cc0-283d0e84afc3",
   "metadata": {},
   "outputs": [],
   "source": [
    "ssot.rename(index = {'Carabatan Bacareño' : 'Carabatan Bacareno'}, inplace = True)\n",
    "\n",
    "for i in ssot.select_dtypes(include = 'float64').columns:\n",
    "    ssot[i] = round(ssot[i], 2)"
   ]
  },
  {
   "cell_type": "code",
   "execution_count": 21,
   "id": "6acd734b-20a9-45de-bded-567ce05a3efb",
   "metadata": {},
   "outputs": [
    {
     "name": "stderr",
     "output_type": "stream",
     "text": [
      "C:\\Users\\Ronald Benz\\AppData\\Local\\Temp\\ipykernel_8416\\3509592212.py:5: UserWarning: Column names longer than 10 characters will be truncated when saved to ESRI Shapefile.\n",
      "  ssot.to_file('output/ssot/ssot.shp')\n"
     ]
    }
   ],
   "source": [
    "ssot.iloc[:, 1:].to_csv('output/ssot.csv')\n",
    "\n",
    "ssot.to_file('output/ssot.geojson', driver = 'GeoJSON')\n",
    "\n",
    "ssot.to_file('output/ssot/ssot.shp')"
   ]
  },
  {
   "cell_type": "markdown",
   "id": "90dc7d36-66e0-4be0-b757-45575920c374",
   "metadata": {},
   "source": [
    "### Metadata"
   ]
  },
  {
   "cell_type": "code",
   "execution_count": 22,
   "id": "b2d83e28-cf1f-42bb-838b-e3f0f6454008",
   "metadata": {},
   "outputs": [
    {
     "name": "stdout",
     "output_type": "stream",
     "text": [
      "<class 'geopandas.geodataframe.GeoDataFrame'>\n",
      "Index: 65 entries, Alicaocao to Villa Flor\n",
      "Data columns (total 64 columns):\n",
      " #   Column                                                      Non-Null Count  Dtype   \n",
      "---  ------                                                      --------------  -----   \n",
      " 0   geometry                                                    65 non-null     geometry\n",
      " 1   Total no. of Households                                     65 non-null     int64   \n",
      " 2   Total no. of Population                                     65 non-null     int64   \n",
      " 3   Total no. of Population (Male)                              65 non-null     int64   \n",
      " 4   Total no. of Population (Female)                            65 non-null     int64   \n",
      " 5   households wih income below poverty threshold               65 non-null     int64   \n",
      " 6   Households who are Informal settlers                        65 non-null     int64   \n",
      " 7   Household living in Makeshift housing                       65 non-null     int64   \n",
      " 8   number of members of the labor force (Total)                65 non-null     int64   \n",
      " 9   number of members of the labor force (Male)                 65 non-null     int64   \n",
      " 10  number of members of the labor force (Female)               65 non-null     int64   \n",
      " 11  unemployed members of the labor force (Magnitude, Total)    65 non-null     int64   \n",
      " 12  unemployed members of the labor force (Magnitude, Male)     65 non-null     int64   \n",
      " 13  unemployed members of the labor force (Magnitude, Female)   65 non-null     int64   \n",
      " 14  unemployed members of the labor force (Proportion, Total)   65 non-null     float64 \n",
      " 15  unemployed members of the labor force (Proportion, Male)    65 non-null     float64 \n",
      " 16  unemployed members of the labor force (Proportion, Female)  65 non-null     float64 \n",
      " 17  number of Employed members of the labor force (Total)       65 non-null     int64   \n",
      " 18  number of Employed members of the labor force (Male)        65 non-null     int64   \n",
      " 19  number of Employed members of the labor force (Female)      65 non-null     int64   \n",
      " 20  underemployed workers (Magnitude, Total)                    65 non-null     int64   \n",
      " 21  underemployed workers (Magnitude, Male)                     65 non-null     int64   \n",
      " 22  underemployed workers (Magnitude, Female)                   65 non-null     int64   \n",
      " 23  underemployed workers (Proportion, Total)                   65 non-null     float64 \n",
      " 24  underemployed workers (Proportion, Male)                    65 non-null     float64 \n",
      " 25  underemployed workers (Proportion, Female)                  65 non-null     float64 \n",
      " 26  number of senior citizens (Total)                           65 non-null     int64   \n",
      " 27  number of senior citizens (Male)                            65 non-null     int64   \n",
      " 28  number of senior citizens (Female)                          65 non-null     int64   \n",
      " 29  Senior citizens with ID (Magnitude, Total)                  65 non-null     int64   \n",
      " 30  Senior citizens with ID (Magnitude, Male)                   65 non-null     int64   \n",
      " 31  Senior citizens with ID (Magnitude, Female)                 65 non-null     int64   \n",
      " 32  Senior citizens with ID (Proportion, Total)                 65 non-null     float64 \n",
      " 33  Senior citizens with ID (Proportion, Male)                  65 non-null     float64 \n",
      " 34  Senior citizens with ID (Proportion, Female)                65 non-null     float64 \n",
      " 35  PWD Indicator (TOTAL)                                       65 non-null     int64   \n",
      " 36  number of children 0-5 years old (Total)                    65 non-null     int64   \n",
      " 37  number of children 0-5 years old (Male)                     65 non-null     int64   \n",
      " 38  number of children 0-5 years old (Female)                   65 non-null     int64   \n",
      " 39  malnourished children 0-5 years old (Magnitude, Total)      65 non-null     int64   \n",
      " 40  malnourished children 0-5 years old (Magnitude, Male)       65 non-null     int64   \n",
      " 41  malnourished children 0-5 years old (Magnitude, Female)     65 non-null     int64   \n",
      " 42  malnourished children 0-5 years old (Proportion, Total)     65 non-null     float64 \n",
      " 43  malnourished children 0-5 years old (Proportion, Male)      65 non-null     float64 \n",
      " 44  malnourished children 0-5 years old (Proportion, Female)    65 non-null     float64 \n",
      " 45  Households with access to electricty                        65 non-null     int64   \n",
      " 46  victims of crime (Magnitude, Total)                         65 non-null     int64   \n",
      " 47  victims of crime (Magnitude, Male)                          65 non-null     int64   \n",
      " 48  victims of crime (Magnitude, Female)                        65 non-null     int64   \n",
      " 49  victims of crime (Proportion, Total)                        65 non-null     float64 \n",
      " 50  victims of crime (Proportion, Male)                         65 non-null     float64 \n",
      " 51  victims of crime (Proportion, Female)                       65 non-null     float64 \n",
      " 52  engaged in crop farming and gardening                       65 non-null     int64   \n",
      " 53  engaged in livestock/poultry                                65 non-null     int64   \n",
      " 54  engaged in fishing                                          65 non-null     int64   \n",
      " 55  engaged in forestry                                         65 non-null     int64   \n",
      " 56  engaged in wholesale/retail                                 65 non-null     int64   \n",
      " 57  engaged in manufacturing                                    65 non-null     int64   \n",
      " 58  engaged in community, social & personal service             65 non-null     int64   \n",
      " 59  engaged in transportation, storage & communicat             65 non-null     int64   \n",
      " 60  engaged in mining & quarrying                               65 non-null     int64   \n",
      " 61  engaged in construction                                     65 non-null     int64   \n",
      " 62  other activities nec                                        65 non-null     int64   \n",
      " 63  OFW                                                         65 non-null     int64   \n",
      "dtypes: float64(15), geometry(1), int64(48)\n",
      "memory usage: 35.1+ KB\n"
     ]
    }
   ],
   "source": [
    "ssot.info()"
   ]
  },
  {
   "cell_type": "code",
   "execution_count": 23,
   "id": "2ef769f0-40f1-41d6-9170-2e50a4fb4d4c",
   "metadata": {},
   "outputs": [
    {
     "data": {
      "text/html": [
       "<div>\n",
       "<style scoped>\n",
       "    .dataframe tbody tr th:only-of-type {\n",
       "        vertical-align: middle;\n",
       "    }\n",
       "\n",
       "    .dataframe tbody tr th {\n",
       "        vertical-align: top;\n",
       "    }\n",
       "\n",
       "    .dataframe thead th {\n",
       "        text-align: right;\n",
       "    }\n",
       "</style>\n",
       "<table border=\"1\" class=\"dataframe\">\n",
       "  <thead>\n",
       "    <tr style=\"text-align: right;\">\n",
       "      <th></th>\n",
       "      <th>geometry</th>\n",
       "      <th>Total no. of Households</th>\n",
       "      <th>Total no. of Population</th>\n",
       "      <th>Total no. of Population (Male)</th>\n",
       "      <th>Total no. of Population (Female)</th>\n",
       "      <th>households wih income below poverty threshold</th>\n",
       "      <th>Households who are Informal settlers</th>\n",
       "      <th>Household living in Makeshift housing</th>\n",
       "      <th>number of members of the labor force (Total)</th>\n",
       "      <th>number of members of the labor force (Male)</th>\n",
       "      <th>...</th>\n",
       "      <th>engaged in fishing</th>\n",
       "      <th>engaged in forestry</th>\n",
       "      <th>engaged in wholesale/retail</th>\n",
       "      <th>engaged in manufacturing</th>\n",
       "      <th>engaged in community, social &amp; personal service</th>\n",
       "      <th>engaged in transportation, storage &amp; communicat</th>\n",
       "      <th>engaged in mining &amp; quarrying</th>\n",
       "      <th>engaged in construction</th>\n",
       "      <th>other activities nec</th>\n",
       "      <th>OFW</th>\n",
       "    </tr>\n",
       "    <tr>\n",
       "      <th>Barangay</th>\n",
       "      <th></th>\n",
       "      <th></th>\n",
       "      <th></th>\n",
       "      <th></th>\n",
       "      <th></th>\n",
       "      <th></th>\n",
       "      <th></th>\n",
       "      <th></th>\n",
       "      <th></th>\n",
       "      <th></th>\n",
       "      <th></th>\n",
       "      <th></th>\n",
       "      <th></th>\n",
       "      <th></th>\n",
       "      <th></th>\n",
       "      <th></th>\n",
       "      <th></th>\n",
       "      <th></th>\n",
       "      <th></th>\n",
       "      <th></th>\n",
       "      <th></th>\n",
       "    </tr>\n",
       "  </thead>\n",
       "  <tbody>\n",
       "    <tr>\n",
       "      <th>Alicaocao</th>\n",
       "      <td>POLYGON ((121.77908 16.95717, 121.78008 16.954...</td>\n",
       "      <td>572</td>\n",
       "      <td>2129</td>\n",
       "      <td>1090</td>\n",
       "      <td>1039</td>\n",
       "      <td>180</td>\n",
       "      <td>14</td>\n",
       "      <td>8</td>\n",
       "      <td>799</td>\n",
       "      <td>564</td>\n",
       "      <td>...</td>\n",
       "      <td>2</td>\n",
       "      <td>0</td>\n",
       "      <td>45</td>\n",
       "      <td>0</td>\n",
       "      <td>2</td>\n",
       "      <td>40</td>\n",
       "      <td>0</td>\n",
       "      <td>7</td>\n",
       "      <td>3</td>\n",
       "      <td>44</td>\n",
       "    </tr>\n",
       "    <tr>\n",
       "      <th>Alinam</th>\n",
       "      <td>POLYGON ((121.74597 16.86982, 121.75007 16.866...</td>\n",
       "      <td>243</td>\n",
       "      <td>944</td>\n",
       "      <td>506</td>\n",
       "      <td>438</td>\n",
       "      <td>97</td>\n",
       "      <td>0</td>\n",
       "      <td>3</td>\n",
       "      <td>351</td>\n",
       "      <td>257</td>\n",
       "      <td>...</td>\n",
       "      <td>0</td>\n",
       "      <td>0</td>\n",
       "      <td>39</td>\n",
       "      <td>0</td>\n",
       "      <td>1</td>\n",
       "      <td>29</td>\n",
       "      <td>0</td>\n",
       "      <td>9</td>\n",
       "      <td>1</td>\n",
       "      <td>32</td>\n",
       "    </tr>\n",
       "    <tr>\n",
       "      <th>Amobocan</th>\n",
       "      <td>POLYGON ((121.81306 16.86129, 121.81306 16.861...</td>\n",
       "      <td>235</td>\n",
       "      <td>849</td>\n",
       "      <td>447</td>\n",
       "      <td>402</td>\n",
       "      <td>119</td>\n",
       "      <td>7</td>\n",
       "      <td>7</td>\n",
       "      <td>298</td>\n",
       "      <td>221</td>\n",
       "      <td>...</td>\n",
       "      <td>0</td>\n",
       "      <td>1</td>\n",
       "      <td>4</td>\n",
       "      <td>0</td>\n",
       "      <td>0</td>\n",
       "      <td>5</td>\n",
       "      <td>0</td>\n",
       "      <td>3</td>\n",
       "      <td>0</td>\n",
       "      <td>35</td>\n",
       "    </tr>\n",
       "    <tr>\n",
       "      <th>Andarayan</th>\n",
       "      <td>POLYGON ((121.81147 16.94769, 121.80938 16.947...</td>\n",
       "      <td>86</td>\n",
       "      <td>304</td>\n",
       "      <td>164</td>\n",
       "      <td>140</td>\n",
       "      <td>43</td>\n",
       "      <td>1</td>\n",
       "      <td>2</td>\n",
       "      <td>134</td>\n",
       "      <td>90</td>\n",
       "      <td>...</td>\n",
       "      <td>0</td>\n",
       "      <td>0</td>\n",
       "      <td>5</td>\n",
       "      <td>0</td>\n",
       "      <td>0</td>\n",
       "      <td>3</td>\n",
       "      <td>0</td>\n",
       "      <td>0</td>\n",
       "      <td>0</td>\n",
       "      <td>8</td>\n",
       "    </tr>\n",
       "    <tr>\n",
       "      <th>Baculod</th>\n",
       "      <td>POLYGON ((121.87459 16.88364, 121.87796 16.882...</td>\n",
       "      <td>483</td>\n",
       "      <td>1652</td>\n",
       "      <td>867</td>\n",
       "      <td>785</td>\n",
       "      <td>238</td>\n",
       "      <td>7</td>\n",
       "      <td>12</td>\n",
       "      <td>657</td>\n",
       "      <td>510</td>\n",
       "      <td>...</td>\n",
       "      <td>0</td>\n",
       "      <td>0</td>\n",
       "      <td>18</td>\n",
       "      <td>0</td>\n",
       "      <td>1</td>\n",
       "      <td>12</td>\n",
       "      <td>0</td>\n",
       "      <td>10</td>\n",
       "      <td>2</td>\n",
       "      <td>40</td>\n",
       "    </tr>\n",
       "  </tbody>\n",
       "</table>\n",
       "<p>5 rows × 64 columns</p>\n",
       "</div>"
      ],
      "text/plain": [
       "                                                    geometry  \\\n",
       "Barangay                                                       \n",
       "Alicaocao  POLYGON ((121.77908 16.95717, 121.78008 16.954...   \n",
       "Alinam     POLYGON ((121.74597 16.86982, 121.75007 16.866...   \n",
       "Amobocan   POLYGON ((121.81306 16.86129, 121.81306 16.861...   \n",
       "Andarayan  POLYGON ((121.81147 16.94769, 121.80938 16.947...   \n",
       "Baculod    POLYGON ((121.87459 16.88364, 121.87796 16.882...   \n",
       "\n",
       "           Total no. of Households  Total no. of Population  \\\n",
       "Barangay                                                      \n",
       "Alicaocao                      572                     2129   \n",
       "Alinam                         243                      944   \n",
       "Amobocan                       235                      849   \n",
       "Andarayan                       86                      304   \n",
       "Baculod                        483                     1652   \n",
       "\n",
       "           Total no. of Population (Male)  Total no. of Population (Female)  \\\n",
       "Barangay                                                                      \n",
       "Alicaocao                            1090                              1039   \n",
       "Alinam                                506                               438   \n",
       "Amobocan                              447                               402   \n",
       "Andarayan                             164                               140   \n",
       "Baculod                               867                               785   \n",
       "\n",
       "           households wih income below poverty threshold  \\\n",
       "Barangay                                                   \n",
       "Alicaocao                                            180   \n",
       "Alinam                                                97   \n",
       "Amobocan                                             119   \n",
       "Andarayan                                             43   \n",
       "Baculod                                              238   \n",
       "\n",
       "           Households who are Informal settlers  \\\n",
       "Barangay                                          \n",
       "Alicaocao                                    14   \n",
       "Alinam                                        0   \n",
       "Amobocan                                      7   \n",
       "Andarayan                                     1   \n",
       "Baculod                                       7   \n",
       "\n",
       "           Household living in Makeshift housing  \\\n",
       "Barangay                                           \n",
       "Alicaocao                                      8   \n",
       "Alinam                                         3   \n",
       "Amobocan                                       7   \n",
       "Andarayan                                      2   \n",
       "Baculod                                       12   \n",
       "\n",
       "           number of members of the labor force (Total)  \\\n",
       "Barangay                                                  \n",
       "Alicaocao                                           799   \n",
       "Alinam                                              351   \n",
       "Amobocan                                            298   \n",
       "Andarayan                                           134   \n",
       "Baculod                                             657   \n",
       "\n",
       "           number of members of the labor force (Male)  ...  \\\n",
       "Barangay                                                ...   \n",
       "Alicaocao                                          564  ...   \n",
       "Alinam                                             257  ...   \n",
       "Amobocan                                           221  ...   \n",
       "Andarayan                                           90  ...   \n",
       "Baculod                                            510  ...   \n",
       "\n",
       "           engaged in fishing  engaged in forestry  \\\n",
       "Barangay                                             \n",
       "Alicaocao                   2                    0   \n",
       "Alinam                      0                    0   \n",
       "Amobocan                    0                    1   \n",
       "Andarayan                   0                    0   \n",
       "Baculod                     0                    0   \n",
       "\n",
       "           engaged in wholesale/retail  engaged in manufacturing  \\\n",
       "Barangay                                                           \n",
       "Alicaocao                           45                         0   \n",
       "Alinam                              39                         0   \n",
       "Amobocan                             4                         0   \n",
       "Andarayan                            5                         0   \n",
       "Baculod                             18                         0   \n",
       "\n",
       "           engaged in community, social & personal service  \\\n",
       "Barangay                                                     \n",
       "Alicaocao                                                2   \n",
       "Alinam                                                   1   \n",
       "Amobocan                                                 0   \n",
       "Andarayan                                                0   \n",
       "Baculod                                                  1   \n",
       "\n",
       "           engaged in transportation, storage & communicat  \\\n",
       "Barangay                                                     \n",
       "Alicaocao                                               40   \n",
       "Alinam                                                  29   \n",
       "Amobocan                                                 5   \n",
       "Andarayan                                                3   \n",
       "Baculod                                                 12   \n",
       "\n",
       "           engaged in mining & quarrying  engaged in construction  \\\n",
       "Barangay                                                            \n",
       "Alicaocao                              0                        7   \n",
       "Alinam                                 0                        9   \n",
       "Amobocan                               0                        3   \n",
       "Andarayan                              0                        0   \n",
       "Baculod                                0                       10   \n",
       "\n",
       "           other activities nec  OFW  \n",
       "Barangay                              \n",
       "Alicaocao                     3   44  \n",
       "Alinam                        1   32  \n",
       "Amobocan                      0   35  \n",
       "Andarayan                     0    8  \n",
       "Baculod                       2   40  \n",
       "\n",
       "[5 rows x 64 columns]"
      ]
     },
     "execution_count": 23,
     "metadata": {},
     "output_type": "execute_result"
    }
   ],
   "source": [
    "ssot.head()"
   ]
  },
  {
   "cell_type": "markdown",
   "id": "78a83ac6-5b3f-4582-87fd-04758f89b0a4",
   "metadata": {
    "tags": []
   },
   "source": [
    "## Data"
   ]
  },
  {
   "cell_type": "code",
   "execution_count": 24,
   "id": "06329fca-59cc-482b-a986-e2a04513bdc3",
   "metadata": {},
   "outputs": [],
   "source": [
    "data = pd.DataFrame(data = np.array([['CBMS 2016 RESULTS', 'POPULATION', '+'.join(list(population.columns))],\n",
    "                                     ['CBMS 2016 RESULTS', 'POVERTY', '+'.join(list(poverty.columns))],\n",
    "                                     ['CBMS 2016 RESULTS', 'INFORMAL SETTLERS', '+'.join(list(informal_settlers.columns))],\n",
    "                                     ['CBMS 2016 RESULTS', 'UNEMPLOYMENT', '+'.join(list(unemployment.columns))],\n",
    "                                     ['CBMS 2016 RESULTS', 'UNDEREMPLOYED', '+'.join(list(underemployed.columns))],\n",
    "                                     ['CBMS 2016 RESULTS', 'SENIOR CITIZENS', '+'.join(list(senior_citizens.columns))],\n",
    "                                     ['CBMS 2016 RESULTS', 'PWD', '+'.join(list(pwd.columns))],\n",
    "                                     ['CBMS 2016 RESULTS', 'MALNOURISHED CHILDREN', '+'.join(list(malnourished_children.columns))],\n",
    "                                     ['CBMS 2016 RESULTS', 'ELECTRICITY', '+'.join(list(electricity.columns))],\n",
    "                                     ['CBMS 2016 RESULTS', 'VICTIMS OF CRIME', '+'.join(list(victims_of_crime.columns))],\n",
    "                                     ['Entrepreneurial activity per Barangay (2016-2017)', 'Entrepreneurial activity per Barangay (2016-2017)', '+'.join(list(ea.columns))],\n",
    "                                     ['No. of OFWs per Barangay (2016-2017)', 'No. of OFWs per Barangay (2016-2017)', '+'.join(list(noo.columns))]]),\n",
    "                    columns = ['Data', 'Sheet', 'Column'])"
   ]
  },
  {
   "cell_type": "code",
   "execution_count": 25,
   "id": "4fd599e4-0412-4e9b-b908-cd0638ad820f",
   "metadata": {},
   "outputs": [],
   "source": [
    "data.to_csv('output/data.csv', index = False)"
   ]
  },
  {
   "cell_type": "markdown",
   "id": "f8a910a1-fdf5-4606-8515-7201e4b172be",
   "metadata": {},
   "source": [
    "### Metadata"
   ]
  },
  {
   "cell_type": "code",
   "execution_count": 26,
   "id": "11592cb8-1af4-4b24-b982-998265c147c2",
   "metadata": {},
   "outputs": [
    {
     "name": "stdout",
     "output_type": "stream",
     "text": [
      "<class 'pandas.core.frame.DataFrame'>\n",
      "RangeIndex: 12 entries, 0 to 11\n",
      "Data columns (total 3 columns):\n",
      " #   Column  Non-Null Count  Dtype \n",
      "---  ------  --------------  ----- \n",
      " 0   Data    12 non-null     object\n",
      " 1   Sheet   12 non-null     object\n",
      " 2   Column  12 non-null     object\n",
      "dtypes: object(3)\n",
      "memory usage: 416.0+ bytes\n"
     ]
    }
   ],
   "source": [
    "data.info()"
   ]
  },
  {
   "cell_type": "code",
   "execution_count": 27,
   "id": "254990bd-3409-4d40-95d7-a488a217ea48",
   "metadata": {},
   "outputs": [
    {
     "data": {
      "text/html": [
       "<div>\n",
       "<style scoped>\n",
       "    .dataframe tbody tr th:only-of-type {\n",
       "        vertical-align: middle;\n",
       "    }\n",
       "\n",
       "    .dataframe tbody tr th {\n",
       "        vertical-align: top;\n",
       "    }\n",
       "\n",
       "    .dataframe thead th {\n",
       "        text-align: right;\n",
       "    }\n",
       "</style>\n",
       "<table border=\"1\" class=\"dataframe\">\n",
       "  <thead>\n",
       "    <tr style=\"text-align: right;\">\n",
       "      <th></th>\n",
       "      <th>Data</th>\n",
       "      <th>Sheet</th>\n",
       "      <th>Column</th>\n",
       "    </tr>\n",
       "  </thead>\n",
       "  <tbody>\n",
       "    <tr>\n",
       "      <th>0</th>\n",
       "      <td>CBMS 2016 RESULTS</td>\n",
       "      <td>POPULATION</td>\n",
       "      <td>Total no. of Households+Total no. of Populatio...</td>\n",
       "    </tr>\n",
       "    <tr>\n",
       "      <th>1</th>\n",
       "      <td>CBMS 2016 RESULTS</td>\n",
       "      <td>POVERTY</td>\n",
       "      <td>households wih income below poverty threshold</td>\n",
       "    </tr>\n",
       "    <tr>\n",
       "      <th>2</th>\n",
       "      <td>CBMS 2016 RESULTS</td>\n",
       "      <td>INFORMAL SETTLERS</td>\n",
       "      <td>Households who are Informal settlers+Household...</td>\n",
       "    </tr>\n",
       "    <tr>\n",
       "      <th>3</th>\n",
       "      <td>CBMS 2016 RESULTS</td>\n",
       "      <td>UNEMPLOYMENT</td>\n",
       "      <td>number of members of the labor force (Total)+n...</td>\n",
       "    </tr>\n",
       "    <tr>\n",
       "      <th>4</th>\n",
       "      <td>CBMS 2016 RESULTS</td>\n",
       "      <td>UNDEREMPLOYED</td>\n",
       "      <td>number of Employed members of the labor force ...</td>\n",
       "    </tr>\n",
       "  </tbody>\n",
       "</table>\n",
       "</div>"
      ],
      "text/plain": [
       "                Data              Sheet  \\\n",
       "0  CBMS 2016 RESULTS         POPULATION   \n",
       "1  CBMS 2016 RESULTS            POVERTY   \n",
       "2  CBMS 2016 RESULTS  INFORMAL SETTLERS   \n",
       "3  CBMS 2016 RESULTS       UNEMPLOYMENT   \n",
       "4  CBMS 2016 RESULTS      UNDEREMPLOYED   \n",
       "\n",
       "                                              Column  \n",
       "0  Total no. of Households+Total no. of Populatio...  \n",
       "1      households wih income below poverty threshold  \n",
       "2  Households who are Informal settlers+Household...  \n",
       "3  number of members of the labor force (Total)+n...  \n",
       "4  number of Employed members of the labor force ...  "
      ]
     },
     "execution_count": 27,
     "metadata": {},
     "output_type": "execute_result"
    }
   ],
   "source": [
    "data.head()"
   ]
  }
 ],
 "metadata": {
  "kernelspec": {
   "display_name": "Python 3 (ipykernel)",
   "language": "python",
   "name": "python3"
  },
  "language_info": {
   "codemirror_mode": {
    "name": "ipython",
    "version": 3
   },
   "file_extension": ".py",
   "mimetype": "text/x-python",
   "name": "python",
   "nbconvert_exporter": "python",
   "pygments_lexer": "ipython3",
   "version": "3.9.13"
  }
 },
 "nbformat": 4,
 "nbformat_minor": 5
}
